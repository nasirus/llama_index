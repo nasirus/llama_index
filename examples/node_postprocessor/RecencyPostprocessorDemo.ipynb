{
 "cells": [
  {
   "cell_type": "markdown",
   "id": "b1c1ebaa-50de-4851-a720-acbb977551ea",
   "metadata": {},
   "source": [
    "# Showcase Recency Node Postprocessor\n",
    "\n",
    "Showcase capabilities of recency-weighted node postprocessor"
   ]
  },
  {
   "cell_type": "code",
   "execution_count": 1,
   "id": "92d06b38-2103-4a40-93c3-60e0708a1124",
   "metadata": {},
   "outputs": [
    {
     "name": "stderr",
     "output_type": "stream",
     "text": [
      "/Users/jerryliu/Programming/gpt_index/.venv/lib/python3.10/site-packages/tqdm/auto.py:21: TqdmWarning: IProgress not found. Please update jupyter and ipywidgets. See https://ipywidgets.readthedocs.io/en/stable/user_install.html\n",
      "  from .autonotebook import tqdm as notebook_tqdm\n"
     ]
    }
   ],
   "source": [
    "from gpt_index import GPTSimpleVectorIndex, SimpleDirectoryReader, ServiceContext\n",
    "from gpt_index.indices.postprocessor import (\n",
    "    FixedRecencyPostprocessor,\n",
    "    EmbeddingRecencyPostprocessor\n",
    ")\n",
    "from gpt_index.node_parser import SimpleNodeParser\n",
    "from gpt_index.docstore import DocumentStore\n",
    "from gpt_index.response.notebook_utils import display_response"
   ]
  },
  {
   "cell_type": "markdown",
   "id": "67020156-2975-4bbb-8e98-afc55abb3d72",
   "metadata": {},
   "source": [
    "### Parse Documents into Nodes, add to Docstore\n",
    "\n",
    "In this example, there are 3 different versions of PG's essay. They are largely identical **except** \n",
    "for one specific section, which details the amount of funding they raised for Viaweb. \n",
    "\n",
    "V1: 50k, V2: 30k, V3: 10K\n",
    "\n",
    "V1: 2020-01-01, V2: 2020-02-03, V3: 2022-04-12\n",
    "\n",
    "The idea is to encourage index to fetch the most recent info (which is V3)"
   ]
  },
  {
   "cell_type": "code",
   "execution_count": 2,
   "id": "caddd84e-9827-40a4-9520-dba6405fd1fd",
   "metadata": {
    "tags": []
   },
   "outputs": [],
   "source": [
    "# load documents\n",
    "def get_file_metadata(file_name: str):\n",
    "    \"\"\"Get file metadata.\"\"\"\n",
    "    if \"v1\" in file_name:\n",
    "        return {\"date\": \"2020-01-01\"}\n",
    "    elif \"v2\" in file_name:\n",
    "        return {\"date\": \"2020-02-03\"}\n",
    "    elif \"v3\" in file_name:\n",
    "        return {\"date\": \"2022-04-12\"}\n",
    "    else:\n",
    "        raise ValueError(\"invalid file\")\n",
    "\n",
    "documents = SimpleDirectoryReader(\n",
    "    input_files=[\n",
    "        'test_versioned_data/paul_graham_essay_v1.txt',\n",
    "        'test_versioned_data/paul_graham_essay_v2.txt',\n",
    "        'test_versioned_data/paul_graham_essay_v3.txt'\n",
    "    ],\n",
    "    file_metadata=get_file_metadata\n",
    ").load_data()\n",
    "\n",
    "# define service context (wrapper container around current classes)\n",
    "service_context = ServiceContext.from_defaults(chunk_size_limit=512)\n",
    "\n",
    "# use node parser in service context to parse into nodes\n",
    "nodes = service_context.node_parser.get_nodes_from_documents(documents)\n",
    "\n",
    "# add to docstore\n",
    "docstore = DocumentStore()\n",
    "docstore.add_documents(nodes)"
   ]
  },
  {
   "cell_type": "code",
   "execution_count": null,
   "id": "191ced40-80f4-40e7-bf31-0c9a5a664cf2",
   "metadata": {
    "tags": []
   },
   "outputs": [],
   "source": [
    "print(documents[2].get_text())"
   ]
  },
  {
   "cell_type": "markdown",
   "id": "e5a25b95-de5e-4e56-a846-51e9c6eba181",
   "metadata": {},
   "source": [
    "### Build Index"
   ]
  },
  {
   "cell_type": "code",
   "execution_count": 3,
   "id": "5f7f68d6-2389-4f6c-bc4e-8612a1a53fb8",
   "metadata": {
    "tags": []
   },
   "outputs": [
    {
     "name": "stderr",
     "output_type": "stream",
     "text": [
      "INFO:gpt_index.token_counter.token_counter:> [build_index_from_nodes] Total LLM token usage: 0 tokens\n",
      "INFO:gpt_index.token_counter.token_counter:> [build_index_from_nodes] Total embedding token usage: 84471 tokens\n"
     ]
    }
   ],
   "source": [
    "# build index \n",
    "index = GPTSimpleVectorIndex(nodes, docstore=docstore)"
   ]
  },
  {
   "cell_type": "code",
   "execution_count": 4,
   "id": "34bc97f6-1ca9-443a-aaf4-3442864f899b",
   "metadata": {
    "tags": []
   },
   "outputs": [],
   "source": [
    "# [optional] save to disk\n",
    "index.save_to_disk(\"index_recency_test.json\")"
   ]
  },
  {
   "cell_type": "code",
   "execution_count": 5,
   "id": "62c3d41c-684e-41f3-960a-f09e0bc14293",
   "metadata": {
    "tags": []
   },
   "outputs": [],
   "source": [
    "# [optional] load from disk\n",
    "index = GPTSimpleVectorIndex.load_from_disk('index_recency_test.json')"
   ]
  },
  {
   "cell_type": "markdown",
   "id": "86c5e8aa-18d8-4229-b7b2-a1c97c11a09a",
   "metadata": {},
   "source": [
    "### Define Recency Postprocessors"
   ]
  },
  {
   "cell_type": "code",
   "execution_count": 6,
   "id": "ba5e10c9-5a7e-4ea8-a74d-0e0f74b5cd1b",
   "metadata": {
    "tags": []
   },
   "outputs": [],
   "source": [
    "node_postprocessor = FixedRecencyPostprocessor(service_context=service_context)"
   ]
  },
  {
   "cell_type": "code",
   "execution_count": 7,
   "id": "94f44f2b-d816-43a0-87dc-ea8eefc7d534",
   "metadata": {
    "tags": []
   },
   "outputs": [],
   "source": [
    "node_postprocessor_emb = EmbeddingRecencyPostprocessor(service_context=service_context)"
   ]
  },
  {
   "cell_type": "markdown",
   "id": "efcfffe4-a8aa-486d-b46d-f73f985dffca",
   "metadata": {},
   "source": [
    "### Query Index"
   ]
  },
  {
   "cell_type": "code",
   "execution_count": 8,
   "id": "78d6c3db-61e6-4d9a-a84d-d7be846b4112",
   "metadata": {
    "tags": []
   },
   "outputs": [
    {
     "name": "stderr",
     "output_type": "stream",
     "text": [
      "INFO:gpt_index.token_counter.token_counter:> [query] Total LLM token usage: 1813 tokens\n",
      "INFO:gpt_index.token_counter.token_counter:> [query] Total embedding token usage: 22 tokens\n"
     ]
    }
   ],
   "source": [
    "# naive query\n",
    "\n",
    "response = index.query(\n",
    "    \"How much did the author raise in seed funding from Idelle's husband (Julian) for Viaweb?\", \n",
    "    similarity_top_k=3,\n",
    ")"
   ]
  },
  {
   "cell_type": "code",
   "execution_count": 9,
   "id": "84a608cd-fd70-40ba-a2f5-1414148db7de",
   "metadata": {
    "tags": []
   },
   "outputs": [
    {
     "data": {
      "text/markdown": [
       "**`Final Response:`** The author raised $50,000 in seed funding from Idelle's husband (Julian) for Viaweb, in exchange for 10% of the company. This funding allowed the author to live on while they worked on the software, which eventually became a WYSIWYG site builder."
      ],
      "text/plain": [
       "<IPython.core.display.Markdown object>"
      ]
     },
     "metadata": {},
     "output_type": "display_data"
    },
    {
     "data": {
      "text/markdown": [
       "---"
      ],
      "text/plain": [
       "<IPython.core.display.Markdown object>"
      ]
     },
     "metadata": {},
     "output_type": "display_data"
    },
    {
     "data": {
      "text/markdown": [
       "**`Source Node 1/3`**"
      ],
      "text/plain": [
       "<IPython.core.display.Markdown object>"
      ]
     },
     "metadata": {},
     "output_type": "display_data"
    },
    {
     "data": {
      "text/markdown": [
       "**Document ID:** bcfa42d1-1a8c-454e-98ac-274c82df74d7<br>**Similarity:** 0.8236323661774008<br>**Text:** date: 2020-02-03\n",
       "\n",
       "never have to write anything to run on users' computers. We could generate the ...<br>"
      ],
      "text/plain": [
       "<IPython.core.display.Markdown object>"
      ]
     },
     "metadata": {},
     "output_type": "display_data"
    },
    {
     "data": {
      "text/markdown": [
       "---"
      ],
      "text/plain": [
       "<IPython.core.display.Markdown object>"
      ]
     },
     "metadata": {},
     "output_type": "display_data"
    },
    {
     "data": {
      "text/markdown": [
       "**`Source Node 2/3`**"
      ],
      "text/plain": [
       "<IPython.core.display.Markdown object>"
      ]
     },
     "metadata": {},
     "output_type": "display_data"
    },
    {
     "data": {
      "text/markdown": [
       "**Document ID:** 4f7bace2-33d5-45e1-9688-c5a08b2a22d1<br>**Similarity:** 0.8235177967096099<br>**Text:** date: 2020-01-01\n",
       "\n",
       "never have to write anything to run on users' computers. We could generate the ...<br>"
      ],
      "text/plain": [
       "<IPython.core.display.Markdown object>"
      ]
     },
     "metadata": {},
     "output_type": "display_data"
    },
    {
     "data": {
      "text/markdown": [
       "---"
      ],
      "text/plain": [
       "<IPython.core.display.Markdown object>"
      ]
     },
     "metadata": {},
     "output_type": "display_data"
    },
    {
     "data": {
      "text/markdown": [
       "**`Source Node 3/3`**"
      ],
      "text/plain": [
       "<IPython.core.display.Markdown object>"
      ]
     },
     "metadata": {},
     "output_type": "display_data"
    },
    {
     "data": {
      "text/markdown": [
       "**Document ID:** 63e5a213-5ea0-4634-86b7-b321e1e8e4d0<br>**Similarity:** 0.8225144936272283<br>**Text:** date: 2022-04-12\n",
       "\n",
       "never have to write anything to run on users' computers. We could generate the ...<br>"
      ],
      "text/plain": [
       "<IPython.core.display.Markdown object>"
      ]
     },
     "metadata": {},
     "output_type": "display_data"
    }
   ],
   "source": [
    "display_response(response)"
   ]
  },
  {
   "cell_type": "code",
   "execution_count": null,
   "id": "1d672c52-c0ac-4e5f-9175-855e66eb97ba",
   "metadata": {
    "tags": []
   },
   "outputs": [],
   "source": [
    "# query using fixed recency node postprocessor\n",
    "\n",
    "response = index.query(\n",
    "    \"How much did the author raise in seed funding from Idelle's husband (Julian) for Viaweb?\", \n",
    "    similarity_top_k=3,\n",
    "    node_postprocessors=[node_postprocessor]\n",
    ")"
   ]
  },
  {
   "cell_type": "code",
   "execution_count": 11,
   "id": "0aa71b88-20d9-40e8-bf00-93794d4cfbd4",
   "metadata": {
    "tags": []
   },
   "outputs": [
    {
     "data": {
      "text/markdown": [
       "**`Final Response:`** $10,000"
      ],
      "text/plain": [
       "<IPython.core.display.Markdown object>"
      ]
     },
     "metadata": {},
     "output_type": "display_data"
    },
    {
     "data": {
      "text/markdown": [
       "---"
      ],
      "text/plain": [
       "<IPython.core.display.Markdown object>"
      ]
     },
     "metadata": {},
     "output_type": "display_data"
    },
    {
     "data": {
      "text/markdown": [
       "**`Source Node 1/1`**"
      ],
      "text/plain": [
       "<IPython.core.display.Markdown object>"
      ]
     },
     "metadata": {},
     "output_type": "display_data"
    },
    {
     "data": {
      "text/markdown": [
       "**Document ID:** 63e5a213-5ea0-4634-86b7-b321e1e8e4d0<br>**Similarity:** 0.8224122808034401<br>**Text:** date: 2022-04-12\n",
       "\n",
       "never have to write anything to run on users' computers. We could generate the ...<br>"
      ],
      "text/plain": [
       "<IPython.core.display.Markdown object>"
      ]
     },
     "metadata": {},
     "output_type": "display_data"
    }
   ],
   "source": [
    "display_response(response)"
   ]
  },
  {
   "cell_type": "code",
   "execution_count": 12,
   "id": "bc1328c1-23b2-406c-b80b-6d97bffc33ae",
   "metadata": {
    "tags": []
   },
   "outputs": [
    {
     "name": "stderr",
     "output_type": "stream",
     "text": [
      "INFO:gpt_index.token_counter.token_counter:> [query] Total LLM token usage: 541 tokens\n",
      "INFO:gpt_index.token_counter.token_counter:> [query] Total embedding token usage: 22 tokens\n"
     ]
    }
   ],
   "source": [
    "# query using embedding-based node postprocessor\n",
    "\n",
    "response = index.query(\n",
    "    \"How much did the author raise in seed funding from Idelle's husband (Julian) for Viaweb?\", \n",
    "    similarity_top_k=3,\n",
    "    node_postprocessors=[node_postprocessor]\n",
    ")"
   ]
  },
  {
   "cell_type": "code",
   "execution_count": 13,
   "id": "b89f632d-02b4-4fcb-bfe7-705a15101eef",
   "metadata": {
    "tags": []
   },
   "outputs": [
    {
     "data": {
      "text/markdown": [
       "**`Final Response:`** The author raised $10,000 in seed funding from Idelle's husband (Julian) for Viaweb."
      ],
      "text/plain": [
       "<IPython.core.display.Markdown object>"
      ]
     },
     "metadata": {},
     "output_type": "display_data"
    },
    {
     "data": {
      "text/markdown": [
       "---"
      ],
      "text/plain": [
       "<IPython.core.display.Markdown object>"
      ]
     },
     "metadata": {},
     "output_type": "display_data"
    },
    {
     "data": {
      "text/markdown": [
       "**`Source Node 1/1`**"
      ],
      "text/plain": [
       "<IPython.core.display.Markdown object>"
      ]
     },
     "metadata": {},
     "output_type": "display_data"
    },
    {
     "data": {
      "text/markdown": [
       "**Document ID:** 63e5a213-5ea0-4634-86b7-b321e1e8e4d0<br>**Similarity:** 0.8225337778989594<br>**Text:** date: 2022-04-12\n",
       "\n",
       "never have to write anything to run on users' computers. We could generate the ...<br>"
      ],
      "text/plain": [
       "<IPython.core.display.Markdown object>"
      ]
     },
     "metadata": {},
     "output_type": "display_data"
    }
   ],
   "source": [
    "display_response(response)"
   ]
  },
  {
   "cell_type": "markdown",
   "id": "dd00cc97-4de7-4c61-9c0c-3f9ee3598528",
   "metadata": {},
   "source": [
    "### Query Index (Lower-Level Usage)\n",
    "\n",
    "In this example we first get the full set of nodes from a query call, and then send to node postprocessor, and then\n",
    "finally synthesize response through a list index."
   ]
  },
  {
   "cell_type": "code",
   "execution_count": 18,
   "id": "350b039e-d45d-4b6b-957a-4b14d8816cbd",
   "metadata": {
    "tags": []
   },
   "outputs": [],
   "source": [
    "from gpt_index import GPTListIndex"
   ]
  },
  {
   "cell_type": "code",
   "execution_count": 19,
   "id": "234f909f-6faa-43e6-96f8-0966699c9552",
   "metadata": {
    "tags": []
   },
   "outputs": [],
   "source": [
    "query_str = \"How much did the author raise in seed funding from Idelle's husband (Julian) for Viaweb?\""
   ]
  },
  {
   "cell_type": "code",
   "execution_count": 20,
   "id": "20afbf6b-9473-446e-b522-b90fef2e3bf0",
   "metadata": {
    "tags": []
   },
   "outputs": [
    {
     "name": "stderr",
     "output_type": "stream",
     "text": [
      "INFO:gpt_index.token_counter.token_counter:> [query] Total LLM token usage: 0 tokens\n",
      "INFO:gpt_index.token_counter.token_counter:> [query] Total embedding token usage: 22 tokens\n"
     ]
    }
   ],
   "source": [
    "init_response = index.query(\n",
    "    query_str, \n",
    "    similarity_top_k=3,\n",
    "    response_mode=\"no_text\"\n",
    ")\n",
    "resp_nodes = [n.node for n in init_response.source_nodes]"
   ]
  },
  {
   "cell_type": "code",
   "execution_count": 22,
   "id": "cdc03574-a806-4255-953c-6f82fc3f202f",
   "metadata": {
    "tags": []
   },
   "outputs": [
    {
     "name": "stderr",
     "output_type": "stream",
     "text": [
      "INFO:gpt_index.token_counter.token_counter:> [build_index_from_nodes] Total LLM token usage: 0 tokens\n",
      "INFO:gpt_index.token_counter.token_counter:> [build_index_from_nodes] Total embedding token usage: 0 tokens\n",
      "INFO:gpt_index.token_counter.token_counter:> [query] Total LLM token usage: 541 tokens\n",
      "INFO:gpt_index.token_counter.token_counter:> [query] Total embedding token usage: 0 tokens\n"
     ]
    }
   ],
   "source": [
    "list_index = GPTListIndex(resp_nodes)\n",
    "response = list_index.query(query_str, node_postprocessors=[node_postprocessor])"
   ]
  },
  {
   "cell_type": "code",
   "execution_count": null,
   "id": "f371e105-ad93-491c-ad27-35b3e34382f3",
   "metadata": {},
   "outputs": [],
   "source": []
  }
 ],
 "metadata": {
  "kernelspec": {
   "display_name": "llama_index",
   "language": "python",
   "name": "llama_index"
  },
  "language_info": {
   "codemirror_mode": {
    "name": "ipython",
    "version": 3
   },
   "file_extension": ".py",
   "mimetype": "text/x-python",
   "name": "python",
   "nbconvert_exporter": "python",
   "pygments_lexer": "ipython3",
   "version": "3.10.10"
  }
 },
 "nbformat": 4,
 "nbformat_minor": 5
}
